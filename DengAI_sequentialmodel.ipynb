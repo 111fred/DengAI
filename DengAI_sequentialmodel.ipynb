{
 "cells": [
  {
   "cell_type": "code",
   "execution_count": 42,
   "metadata": {},
   "outputs": [],
   "source": [
    "# Imports \n",
    "import numpy\n",
    "import pandas\n",
    "from keras.models import Sequential\n",
    "from keras.layers import Activation, Dense, Dropout\n",
    "from keras.objectives import MSE, MAE\n",
    "from keras import optimizers\n",
    "from keras.optimizers import SGD\n",
    "from keras.optimizers import Adam\n",
    "from keras.callbacks import EarlyStopping\n",
    "from sklearn.preprocessing import MinMaxScaler\n",
    "from sklearn.model_selection import train_test_split\n",
    "from sklearn.metrics import mean_absolute_error"
   ]
  },
  {
   "cell_type": "code",
   "execution_count": 43,
   "metadata": {},
   "outputs": [
    {
     "data": {
      "text/plain": [
       "(1079, 12)"
      ]
     },
     "execution_count": 43,
     "metadata": {},
     "output_type": "execute_result"
    }
   ],
   "source": [
    "# Get data\n",
    "df1 = pandas.read_csv('Data_exploration.csv', low_memory=False, nrows = 1457)\n",
    "df2 = pandas.read_csv('DengAI_Predicting_Disease_Spread_-_Training_Data_Labels.csv', low_memory=False, nrows = 1457)\n",
    "df3 = df2['total_cases']\n",
    "df = df1.join(df3)\n",
    "\n",
    "# Drop NaN\n",
    "df.dropna(inplace=True)\n",
    "\n",
    "# Select only relevant features (correlation to label > 0.1)\n",
    "df_clean_relevant = df[['city','year', 'weekofyear', 'ndvi_nw', 'ndvi_se', 'ndvi_sw', 'reanalysis_air_temp_k', 'reanalysis_avg_temp_k', 'reanalysis_min_air_temp_k', 'reanalysis_dew_point_temp_k', 'reanalysis_relative_humidity_percent', 'reanalysis_specific_humidity_g_per_kg', 'reanalysis_tdtr_k', 'station_diur_temp_rng_c', 'station_min_temp_c', 'total_cases']]\n",
    "\n",
    "# Input output split\n",
    "x = df_clean_relevant.drop(['city','year', 'weekofyear', 'total_cases'], axis=1)\n",
    "y = df_clean_relevant['total_cases']\n",
    "\n",
    "# Train test split\n",
    "X_train, X_test, y_train, y_test = train_test_split(x,y,test_size=.1,random_state=1)\n",
    "\n",
    "# Scale\n",
    "scaler = MinMaxScaler(feature_range=(0, 1))\n",
    "X_train = scaler.fit_transform(X_train)\n",
    "X_test = scaler.fit_transform(X_test)\n",
    "\n",
    "# Quick look\n",
    "X_train.shape"
   ]
  },
  {
   "cell_type": "code",
   "execution_count": 64,
   "metadata": {},
   "outputs": [
    {
     "name": "stdout",
     "output_type": "stream",
     "text": [
      "Train on 971 samples, validate on 108 samples\n",
      "Epoch 1/200\n",
      " - 1s - loss: 20.6636 - val_loss: 20.3753\n",
      "Epoch 2/200\n",
      " - 0s - loss: 17.8526 - val_loss: 17.8498\n",
      "Epoch 3/200\n",
      " - 0s - loss: 17.6635 - val_loss: 17.5688\n",
      "Epoch 4/200\n",
      " - 0s - loss: 16.9485 - val_loss: 17.8189\n",
      "Epoch 5/200\n",
      " - 0s - loss: 16.7295 - val_loss: 17.8205\n",
      "Epoch 6/200\n",
      " - 0s - loss: 16.5899 - val_loss: 16.9526\n",
      "Epoch 7/200\n",
      " - 0s - loss: 16.0903 - val_loss: 16.4771\n",
      "Epoch 8/200\n",
      " - 0s - loss: 15.8515 - val_loss: 16.5532\n",
      "Epoch 9/200\n",
      " - 0s - loss: 15.7430 - val_loss: 16.3807\n",
      "Epoch 10/200\n",
      " - 0s - loss: 15.3995 - val_loss: 15.3230\n",
      "Epoch 11/200\n",
      " - 0s - loss: 15.3370 - val_loss: 15.6724\n",
      "Epoch 12/200\n",
      " - 0s - loss: 15.2481 - val_loss: 15.7463\n",
      "Epoch 13/200\n",
      " - 0s - loss: 15.5343 - val_loss: 15.5589\n",
      "Epoch 14/200\n",
      " - 0s - loss: 15.3694 - val_loss: 15.5904\n",
      "Epoch 15/200\n",
      " - 0s - loss: 15.0022 - val_loss: 15.4035\n",
      "Epoch 16/200\n",
      " - 0s - loss: 15.3937 - val_loss: 15.4247\n",
      "Epoch 17/200\n",
      " - 0s - loss: 15.3634 - val_loss: 16.1262\n",
      "Epoch 18/200\n",
      " - 0s - loss: 15.2722 - val_loss: 15.8432\n",
      "Epoch 19/200\n",
      " - 0s - loss: 15.3529 - val_loss: 15.4345\n",
      "Epoch 20/200\n",
      " - 0s - loss: 14.9603 - val_loss: 15.7106\n",
      "Epoch 21/200\n",
      " - 0s - loss: 15.3583 - val_loss: 16.1873\n",
      "Epoch 22/200\n",
      " - 0s - loss: 15.1460 - val_loss: 15.5314\n",
      "Epoch 23/200\n",
      " - 0s - loss: 15.0505 - val_loss: 15.6034\n",
      "Epoch 24/200\n",
      " - 0s - loss: 15.0978 - val_loss: 16.1594\n",
      "Epoch 25/200\n",
      " - 0s - loss: 15.4341 - val_loss: 16.1007\n",
      "Epoch 26/200\n",
      " - 0s - loss: 15.3782 - val_loss: 15.6098\n",
      "Epoch 27/200\n",
      " - 0s - loss: 15.1155 - val_loss: 15.8576\n",
      "Epoch 28/200\n",
      " - 0s - loss: 15.1578 - val_loss: 16.3890\n",
      "Epoch 29/200\n",
      " - 0s - loss: 14.9584 - val_loss: 15.7311\n",
      "Epoch 30/200\n",
      " - 0s - loss: 15.2160 - val_loss: 15.6946\n"
     ]
    }
   ],
   "source": [
    "# Initialize\n",
    "model = Sequential([\n",
    "  Dense(256, activation='tanh', input_shape=(X_train.shape[1],)),\n",
    "  Dropout(0.5),\n",
    "  Dense(128, activation='relu'),\n",
    "  Dropout(0.5),\n",
    "  Dense(64, activation='relu'),\n",
    "  Dropout(0.5),\n",
    "  Dense(64, activation='relu'),\n",
    "  Dropout(0.5),\n",
    "  Dense(64, activation='relu'),\n",
    "  Dense(1),\n",
    "])\n",
    "\n",
    "# Compile\n",
    "model.compile(loss='mean_absolute_error', optimizer=Adam(lr=0.002))\n",
    "\n",
    "# Early stopping\n",
    "early_stopping = EarlyStopping(monitor='val_loss', patience=20)\n",
    "\n",
    "# Train and log\n",
    "train_log = model.fit(X_train, y_train.values, batch_size=256, epochs=200, validation_split=0.1, verbose=2, callbacks=[early_stopping])"
   ]
  },
  {
   "cell_type": "code",
   "execution_count": 65,
   "metadata": {},
   "outputs": [
    {
     "data": {
      "image/png": "[encoded data removed]",
      "text/plain": [
       "<Figure size 432x288 with 1 Axes>"
      ]
     },
     "metadata": {},
     "output_type": "display_data"
    }
   ],
   "source": [
    "# Plot\n",
    "\n",
    "import matplotlib.pyplot as plt\n",
    "\n",
    "plt.style.use(\"ggplot\")\n",
    "\n",
    "plt.plot(train_log.history[\"loss\"], label=\"loss\")\n",
    "plt.plot(train_log.history[\"val_loss\"], label=\"val_loss\")\n",
    "plt.legend()\n",
    "plt.show()"
   ]
  },
  {
   "cell_type": "code",
   "execution_count": 66,
   "metadata": {},
   "outputs": [
    {
     "name": "stdout",
     "output_type": "stream",
     "text": [
      "NNW Performance on the test set: MAE = 13.1662\n"
     ]
    }
   ],
   "source": [
    "# Predict\n",
    "predictions = model.predict(X_test)\n",
    "\n",
    "# Evaluate\n",
    "mae = mean_absolute_error(y_test, predictions)\n",
    "\n",
    "# Result\n",
    "print('NNW Performance on the test set: MAE = %0.4f' % mae)"
   ]
  },
  {
   "cell_type": "code",
   "execution_count": null,
   "metadata": {},
   "outputs": [],
   "source": []
  }
 ],
 "metadata": {
  "kernelspec": {
   "display_name": "Python 3",
   "language": "python",
   "name": "python3"
  },
  "language_info": {
   "codemirror_mode": {
    "name": "ipython",
    "version": 3
   },
   "file_extension": ".py",
   "mimetype": "text/x-python",
   "name": "python",
   "nbconvert_exporter": "python",
   "pygments_lexer": "ipython3",
   "version": "3.7.0"
  }
 },
 "nbformat": 4,
 "nbformat_minor": 2
}
